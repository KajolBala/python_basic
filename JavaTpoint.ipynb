{
  "nbformat": 4,
  "nbformat_minor": 0,
  "metadata": {
    "kernelspec": {
      "display_name": "Python 3",
      "language": "python",
      "name": "python3"
    },
    "language_info": {
      "codemirror_mode": {
        "name": "ipython",
        "version": 3
      },
      "file_extension": ".py",
      "mimetype": "text/x-python",
      "name": "python",
      "nbconvert_exporter": "python",
      "pygments_lexer": "ipython3",
      "version": "3.8.6"
    },
    "colab": {
      "name": "JavaTpoint.ipynb",
      "provenance": [],
      "include_colab_link": true
    }
  },
  "cells": [
    {
      "cell_type": "markdown",
      "metadata": {
        "id": "view-in-github",
        "colab_type": "text"
      },
      "source": [
        "<a href=\"https://colab.research.google.com/github/KajolBala/python_basic/blob/main/JavaTpoint.ipynb\" target=\"_parent\"><img src=\"https://colab.research.google.com/assets/colab-badge.svg\" alt=\"Open In Colab\"/></a>"
      ]
    },
    {
      "cell_type": "code",
      "metadata": {
        "id": "mvip8BxJNBVt"
      },
      "source": [
        "import time\n",
        "import datetime\n",
        "import calendar"
      ],
      "execution_count": null,
      "outputs": []
    },
    {
      "cell_type": "code",
      "metadata": {
        "id": "2Px-xWCqNBVx",
        "outputId": "29d3533b-e5f5-4ca6-e8d1-3236ef3d2a52"
      },
      "source": [
        "print(time.time())"
      ],
      "execution_count": null,
      "outputs": [
        {
          "output_type": "stream",
          "text": [
            "1617991125.80736\n"
          ],
          "name": "stdout"
        }
      ]
    },
    {
      "cell_type": "code",
      "metadata": {
        "id": "w2NbF1qJNBVy",
        "outputId": "cfa57465-fdb4-405d-a748-e79f5fcd512d"
      },
      "source": [
        "print(time.localtime(time.time()))"
      ],
      "execution_count": null,
      "outputs": [
        {
          "output_type": "stream",
          "text": [
            "time.struct_time(tm_year=2021, tm_mon=4, tm_mday=9, tm_hour=18, tm_min=0, tm_sec=11, tm_wday=4, tm_yday=99, tm_isdst=0)\n"
          ],
          "name": "stdout"
        }
      ]
    },
    {
      "cell_type": "code",
      "metadata": {
        "id": "Q7VpSbhdNBVz",
        "outputId": "26cb75a9-2bad-4509-f5cf-52c6f1789bd9"
      },
      "source": [
        "print(time.asctime(time.localtime(time.time())))"
      ],
      "execution_count": null,
      "outputs": [
        {
          "output_type": "stream",
          "text": [
            "Fri Apr  9 18:01:53 2021\n"
          ],
          "name": "stdout"
        }
      ]
    },
    {
      "cell_type": "code",
      "metadata": {
        "id": "abHbHze4NBV0",
        "outputId": "347968a1-a267-43f1-bb90-a38f5754f9f7"
      },
      "source": [
        "for i in range(10):\n",
        "    print(i)\n",
        "    time.sleep(5)"
      ],
      "execution_count": null,
      "outputs": [
        {
          "output_type": "stream",
          "text": [
            "0\n",
            "1\n",
            "2\n",
            "3\n",
            "4\n",
            "5\n",
            "6\n",
            "7\n",
            "8\n",
            "9\n"
          ],
          "name": "stdout"
        }
      ]
    },
    {
      "cell_type": "code",
      "metadata": {
        "id": "YAdDYXIYNBV0",
        "outputId": "433b4e31-16a2-4ed1-9667-954ed39a78cd"
      },
      "source": [
        "print(datetime.datetime.now())"
      ],
      "execution_count": null,
      "outputs": [
        {
          "output_type": "stream",
          "text": [
            "2021-04-09 18:05:29.705636\n"
          ],
          "name": "stdout"
        }
      ]
    },
    {
      "cell_type": "code",
      "metadata": {
        "id": "s9gDtVZENBV1",
        "outputId": "79f9fa4e-dfd0-4283-aa07-6414922d25fc"
      },
      "source": [
        "print(datetime.datetime(2021,4,9))"
      ],
      "execution_count": null,
      "outputs": [
        {
          "output_type": "stream",
          "text": [
            "2021-04-09 00:00:00\n"
          ],
          "name": "stdout"
        }
      ]
    },
    {
      "cell_type": "code",
      "metadata": {
        "id": "kz67AEYeNBV1",
        "outputId": "0aaca083-4e18-4742-bfe5-00fbfad7fdd2"
      },
      "source": [
        "from datetime import datetime as dt\n",
        "if dt(dt.now().year, dt.now().month, dt.now().day, 8)<dt.now()<dt(dt.now().year, dt.now().month, dt.now().day, 16):\n",
        "    print(\"Working hours\")\n",
        "else:\n",
        "    print(\"Fun time ....\")"
      ],
      "execution_count": null,
      "outputs": [
        {
          "output_type": "stream",
          "text": [
            "Fun time ....\n"
          ],
          "name": "stdout"
        }
      ]
    },
    {
      "cell_type": "code",
      "metadata": {
        "id": "YKP-8_kyNBV1",
        "outputId": "ba5ac99d-46bd-4614-ed91-8a8eb0c59024"
      },
      "source": [
        "print(calendar.month(2021,4))"
      ],
      "execution_count": null,
      "outputs": [
        {
          "output_type": "stream",
          "text": [
            "     April 2021\n",
            "Mo Tu We Th Fr Sa Su\n",
            "          1  2  3  4\n",
            " 5  6  7  8  9 10 11\n",
            "12 13 14 15 16 17 18\n",
            "19 20 21 22 23 24 25\n",
            "26 27 28 29 30\n",
            "\n"
          ],
          "name": "stdout"
        }
      ]
    },
    {
      "cell_type": "code",
      "metadata": {
        "id": "9LN-1p6iNBV2"
      },
      "source": [
        ""
      ],
      "execution_count": null,
      "outputs": []
    }
  ]
}